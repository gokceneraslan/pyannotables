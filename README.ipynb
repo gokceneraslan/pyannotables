{
 "cells": [
  {
   "cell_type": "code",
   "execution_count": 1,
   "metadata": {},
   "outputs": [],
   "source": [
    "from pathlib import Path\n",
    "import os\n",
    "\n",
    "import pandas as pd\n",
    "\n",
    "from pyensembl import EnsemblRelease, genome_for_reference_name\n",
    "from pyensembl.species import human, mouse"
   ]
  },
  {
   "cell_type": "code",
   "execution_count": 2,
   "metadata": {},
   "outputs": [],
   "source": [
    "def fetch_genes_and_transcripts(release, species, datadir=Path('data')):\n",
    "    er = EnsemblRelease(release=release, species=species)\n",
    "    er.download()\n",
    "    er.index()\n",
    "    \n",
    "    genes = er.genes()\n",
    "    tx = er.transcripts()\n",
    "\n",
    "    gdf = pd.DataFrame([x.to_dict() for x in genes])\n",
    "    gdf = gdf[['gene_id', 'gene_name', 'contig', 'start', 'end', 'strand', 'biotype']]\n",
    "    gdf.set_index('gene_id', inplace=True)\n",
    "\n",
    "    tdf = pd.DataFrame([x.to_dict() for x in tx])\n",
    "    tdf = tdf[['gene_id', 'transcript_id']]\n",
    "    tdf.set_index('transcript_id', inplace=True)\n",
    "\n",
    "    os.makedirs(datadir, exist_ok=True)\n",
    "    gdf.to_csv(datadir / f'{species.latin_name}-ensembl{release}-{ref}.csv.xz')\n",
    "    tdf.to_csv(datadir / f'{species.latin_name}-ensembl{release}-{ref}-tx2gene.csv.xz')\n",
    "    \n",
    "    return gdf, tdf"
   ]
  },
  {
   "cell_type": "markdown",
   "metadata": {},
   "source": [
    "## Human annotations"
   ]
  },
  {
   "cell_type": "markdown",
   "metadata": {},
   "source": [
    "### GRCh38"
   ]
  },
  {
   "cell_type": "code",
   "execution_count": 3,
   "metadata": {},
   "outputs": [
    {
     "name": "stderr",
     "output_type": "stream",
     "text": [
      "INFO:pyensembl.sequence_data:Loaded sequence dictionary from /Users/gokcen/Library/Caches/pyensembl/GRCh38/ensembl95/Homo_sapiens.GRCh38.cdna.all.fa.gz.pickle\n",
      "INFO:pyensembl.sequence_data:Loaded sequence dictionary from /Users/gokcen/Library/Caches/pyensembl/GRCh38/ensembl95/Homo_sapiens.GRCh38.ncrna.fa.gz.pickle\n",
      "INFO:pyensembl.sequence_data:Loaded sequence dictionary from /Users/gokcen/Library/Caches/pyensembl/GRCh38/ensembl95/Homo_sapiens.GRCh38.pep.all.fa.gz.pickle\n"
     ]
    }
   ],
   "source": [
    "release = 95\n",
    "species = human\n",
    "\n",
    "ref = species.which_reference(release)\n",
    "gdf, tdf = fetch_genes_and_transcripts(release, species)"
   ]
  },
  {
   "cell_type": "code",
   "execution_count": 4,
   "metadata": {},
   "outputs": [
    {
     "data": {
      "text/html": [
       "<div>\n",
       "<style scoped>\n",
       "    .dataframe tbody tr th:only-of-type {\n",
       "        vertical-align: middle;\n",
       "    }\n",
       "\n",
       "    .dataframe tbody tr th {\n",
       "        vertical-align: top;\n",
       "    }\n",
       "\n",
       "    .dataframe thead th {\n",
       "        text-align: right;\n",
       "    }\n",
       "</style>\n",
       "<table border=\"1\" class=\"dataframe\">\n",
       "  <thead>\n",
       "    <tr style=\"text-align: right;\">\n",
       "      <th></th>\n",
       "      <th>gene_name</th>\n",
       "      <th>contig</th>\n",
       "      <th>start</th>\n",
       "      <th>end</th>\n",
       "      <th>strand</th>\n",
       "      <th>biotype</th>\n",
       "    </tr>\n",
       "    <tr>\n",
       "      <th>gene_id</th>\n",
       "      <th></th>\n",
       "      <th></th>\n",
       "      <th></th>\n",
       "      <th></th>\n",
       "      <th></th>\n",
       "      <th></th>\n",
       "    </tr>\n",
       "  </thead>\n",
       "  <tbody>\n",
       "    <tr>\n",
       "      <th>ENSG00000000003</th>\n",
       "      <td>TSPAN6</td>\n",
       "      <td>X</td>\n",
       "      <td>100627109</td>\n",
       "      <td>100639991</td>\n",
       "      <td>-</td>\n",
       "      <td>protein_coding</td>\n",
       "    </tr>\n",
       "    <tr>\n",
       "      <th>ENSG00000000005</th>\n",
       "      <td>TNMD</td>\n",
       "      <td>X</td>\n",
       "      <td>100584802</td>\n",
       "      <td>100599885</td>\n",
       "      <td>+</td>\n",
       "      <td>protein_coding</td>\n",
       "    </tr>\n",
       "    <tr>\n",
       "      <th>ENSG00000000419</th>\n",
       "      <td>DPM1</td>\n",
       "      <td>20</td>\n",
       "      <td>50934867</td>\n",
       "      <td>50958555</td>\n",
       "      <td>-</td>\n",
       "      <td>protein_coding</td>\n",
       "    </tr>\n",
       "    <tr>\n",
       "      <th>ENSG00000000457</th>\n",
       "      <td>SCYL3</td>\n",
       "      <td>1</td>\n",
       "      <td>169849631</td>\n",
       "      <td>169894267</td>\n",
       "      <td>-</td>\n",
       "      <td>protein_coding</td>\n",
       "    </tr>\n",
       "    <tr>\n",
       "      <th>ENSG00000000460</th>\n",
       "      <td>C1orf112</td>\n",
       "      <td>1</td>\n",
       "      <td>169662007</td>\n",
       "      <td>169854080</td>\n",
       "      <td>+</td>\n",
       "      <td>protein_coding</td>\n",
       "    </tr>\n",
       "  </tbody>\n",
       "</table>\n",
       "</div>"
      ],
      "text/plain": [
       "                gene_name contig      start        end strand         biotype\n",
       "gene_id                                                                      \n",
       "ENSG00000000003    TSPAN6      X  100627109  100639991      -  protein_coding\n",
       "ENSG00000000005      TNMD      X  100584802  100599885      +  protein_coding\n",
       "ENSG00000000419      DPM1     20   50934867   50958555      -  protein_coding\n",
       "ENSG00000000457     SCYL3      1  169849631  169894267      -  protein_coding\n",
       "ENSG00000000460  C1orf112      1  169662007  169854080      +  protein_coding"
      ]
     },
     "execution_count": 4,
     "metadata": {},
     "output_type": "execute_result"
    }
   ],
   "source": [
    "gdf.head()"
   ]
  },
  {
   "cell_type": "code",
   "execution_count": 5,
   "metadata": {},
   "outputs": [
    {
     "data": {
      "text/html": [
       "<div>\n",
       "<style scoped>\n",
       "    .dataframe tbody tr th:only-of-type {\n",
       "        vertical-align: middle;\n",
       "    }\n",
       "\n",
       "    .dataframe tbody tr th {\n",
       "        vertical-align: top;\n",
       "    }\n",
       "\n",
       "    .dataframe thead th {\n",
       "        text-align: right;\n",
       "    }\n",
       "</style>\n",
       "<table border=\"1\" class=\"dataframe\">\n",
       "  <thead>\n",
       "    <tr style=\"text-align: right;\">\n",
       "      <th></th>\n",
       "      <th>gene_id</th>\n",
       "    </tr>\n",
       "    <tr>\n",
       "      <th>transcript_id</th>\n",
       "      <th></th>\n",
       "    </tr>\n",
       "  </thead>\n",
       "  <tbody>\n",
       "    <tr>\n",
       "      <th>ENST00000000233</th>\n",
       "      <td>ENSG00000004059</td>\n",
       "    </tr>\n",
       "    <tr>\n",
       "      <th>ENST00000000412</th>\n",
       "      <td>ENSG00000003056</td>\n",
       "    </tr>\n",
       "    <tr>\n",
       "      <th>ENST00000000442</th>\n",
       "      <td>ENSG00000173153</td>\n",
       "    </tr>\n",
       "    <tr>\n",
       "      <th>ENST00000001008</th>\n",
       "      <td>ENSG00000004478</td>\n",
       "    </tr>\n",
       "    <tr>\n",
       "      <th>ENST00000001146</th>\n",
       "      <td>ENSG00000003137</td>\n",
       "    </tr>\n",
       "  </tbody>\n",
       "</table>\n",
       "</div>"
      ],
      "text/plain": [
       "                         gene_id\n",
       "transcript_id                   \n",
       "ENST00000000233  ENSG00000004059\n",
       "ENST00000000412  ENSG00000003056\n",
       "ENST00000000442  ENSG00000173153\n",
       "ENST00000001008  ENSG00000004478\n",
       "ENST00000001146  ENSG00000003137"
      ]
     },
     "execution_count": 5,
     "metadata": {},
     "output_type": "execute_result"
    }
   ],
   "source": [
    "tdf.head()"
   ]
  },
  {
   "cell_type": "markdown",
   "metadata": {},
   "source": [
    "### GRCh37"
   ]
  },
  {
   "cell_type": "code",
   "execution_count": 6,
   "metadata": {},
   "outputs": [
    {
     "name": "stderr",
     "output_type": "stream",
     "text": [
      "INFO:pyensembl.sequence_data:Loaded sequence dictionary from /Users/gokcen/Library/Caches/pyensembl/GRCh37/ensembl75/Homo_sapiens.GRCh37.75.cdna.all.fa.gz.pickle\n",
      "INFO:pyensembl.sequence_data:Loaded sequence dictionary from /Users/gokcen/Library/Caches/pyensembl/GRCh37/ensembl75/Homo_sapiens.GRCh37.75.ncrna.fa.gz.pickle\n",
      "INFO:pyensembl.sequence_data:Loaded sequence dictionary from /Users/gokcen/Library/Caches/pyensembl/GRCh37/ensembl75/Homo_sapiens.GRCh37.75.pep.all.fa.gz.pickle\n"
     ]
    }
   ],
   "source": [
    "release = 75\n",
    "species = human\n",
    "\n",
    "ref = species.which_reference(release)\n",
    "gdf, tdf = fetch_genes_and_transcripts(release, species)"
   ]
  },
  {
   "cell_type": "markdown",
   "metadata": {},
   "source": [
    "## Mouse annotations"
   ]
  },
  {
   "cell_type": "markdown",
   "metadata": {},
   "source": [
    "### GRCm38"
   ]
  },
  {
   "cell_type": "code",
   "execution_count": 7,
   "metadata": {},
   "outputs": [
    {
     "name": "stderr",
     "output_type": "stream",
     "text": [
      "INFO:pyensembl.sequence_data:Loaded sequence dictionary from /Users/gokcen/Library/Caches/pyensembl/GRCm38/ensembl95/Mus_musculus.GRCm38.cdna.all.fa.gz.pickle\n",
      "INFO:pyensembl.sequence_data:Loaded sequence dictionary from /Users/gokcen/Library/Caches/pyensembl/GRCm38/ensembl95/Mus_musculus.GRCm38.ncrna.fa.gz.pickle\n",
      "INFO:pyensembl.sequence_data:Loaded sequence dictionary from /Users/gokcen/Library/Caches/pyensembl/GRCm38/ensembl95/Mus_musculus.GRCm38.pep.all.fa.gz.pickle\n"
     ]
    }
   ],
   "source": [
    "release = 95\n",
    "species = mouse\n",
    "\n",
    "ref = species.which_reference(release)\n",
    "gdf, tdf = fetch_genes_and_transcripts(release, species)"
   ]
  },
  {
   "cell_type": "code",
   "execution_count": 8,
   "metadata": {},
   "outputs": [
    {
     "data": {
      "text/html": [
       "<div>\n",
       "<style scoped>\n",
       "    .dataframe tbody tr th:only-of-type {\n",
       "        vertical-align: middle;\n",
       "    }\n",
       "\n",
       "    .dataframe tbody tr th {\n",
       "        vertical-align: top;\n",
       "    }\n",
       "\n",
       "    .dataframe thead th {\n",
       "        text-align: right;\n",
       "    }\n",
       "</style>\n",
       "<table border=\"1\" class=\"dataframe\">\n",
       "  <thead>\n",
       "    <tr style=\"text-align: right;\">\n",
       "      <th></th>\n",
       "      <th>gene_name</th>\n",
       "      <th>contig</th>\n",
       "      <th>start</th>\n",
       "      <th>end</th>\n",
       "      <th>strand</th>\n",
       "      <th>biotype</th>\n",
       "    </tr>\n",
       "    <tr>\n",
       "      <th>gene_id</th>\n",
       "      <th></th>\n",
       "      <th></th>\n",
       "      <th></th>\n",
       "      <th></th>\n",
       "      <th></th>\n",
       "      <th></th>\n",
       "    </tr>\n",
       "  </thead>\n",
       "  <tbody>\n",
       "    <tr>\n",
       "      <th>ENSMUSG00000000001</th>\n",
       "      <td>Gnai3</td>\n",
       "      <td>3</td>\n",
       "      <td>108107280</td>\n",
       "      <td>108146146</td>\n",
       "      <td>-</td>\n",
       "      <td>protein_coding</td>\n",
       "    </tr>\n",
       "    <tr>\n",
       "      <th>ENSMUSG00000000003</th>\n",
       "      <td>Pbsn</td>\n",
       "      <td>X</td>\n",
       "      <td>77837901</td>\n",
       "      <td>77853623</td>\n",
       "      <td>-</td>\n",
       "      <td>protein_coding</td>\n",
       "    </tr>\n",
       "    <tr>\n",
       "      <th>ENSMUSG00000000028</th>\n",
       "      <td>Cdc45</td>\n",
       "      <td>16</td>\n",
       "      <td>18780447</td>\n",
       "      <td>18811987</td>\n",
       "      <td>-</td>\n",
       "      <td>protein_coding</td>\n",
       "    </tr>\n",
       "    <tr>\n",
       "      <th>ENSMUSG00000000031</th>\n",
       "      <td>H19</td>\n",
       "      <td>7</td>\n",
       "      <td>142575529</td>\n",
       "      <td>142578143</td>\n",
       "      <td>-</td>\n",
       "      <td>lincRNA</td>\n",
       "    </tr>\n",
       "    <tr>\n",
       "      <th>ENSMUSG00000000037</th>\n",
       "      <td>Scml2</td>\n",
       "      <td>X</td>\n",
       "      <td>161117193</td>\n",
       "      <td>161258213</td>\n",
       "      <td>+</td>\n",
       "      <td>protein_coding</td>\n",
       "    </tr>\n",
       "  </tbody>\n",
       "</table>\n",
       "</div>"
      ],
      "text/plain": [
       "                   gene_name contig      start        end strand  \\\n",
       "gene_id                                                            \n",
       "ENSMUSG00000000001     Gnai3      3  108107280  108146146      -   \n",
       "ENSMUSG00000000003      Pbsn      X   77837901   77853623      -   \n",
       "ENSMUSG00000000028     Cdc45     16   18780447   18811987      -   \n",
       "ENSMUSG00000000031       H19      7  142575529  142578143      -   \n",
       "ENSMUSG00000000037     Scml2      X  161117193  161258213      +   \n",
       "\n",
       "                           biotype  \n",
       "gene_id                             \n",
       "ENSMUSG00000000001  protein_coding  \n",
       "ENSMUSG00000000003  protein_coding  \n",
       "ENSMUSG00000000028  protein_coding  \n",
       "ENSMUSG00000000031         lincRNA  \n",
       "ENSMUSG00000000037  protein_coding  "
      ]
     },
     "execution_count": 8,
     "metadata": {},
     "output_type": "execute_result"
    }
   ],
   "source": [
    "gdf.head()"
   ]
  },
  {
   "cell_type": "code",
   "execution_count": 9,
   "metadata": {},
   "outputs": [
    {
     "data": {
      "text/html": [
       "<div>\n",
       "<style scoped>\n",
       "    .dataframe tbody tr th:only-of-type {\n",
       "        vertical-align: middle;\n",
       "    }\n",
       "\n",
       "    .dataframe tbody tr th {\n",
       "        vertical-align: top;\n",
       "    }\n",
       "\n",
       "    .dataframe thead th {\n",
       "        text-align: right;\n",
       "    }\n",
       "</style>\n",
       "<table border=\"1\" class=\"dataframe\">\n",
       "  <thead>\n",
       "    <tr style=\"text-align: right;\">\n",
       "      <th></th>\n",
       "      <th>gene_id</th>\n",
       "    </tr>\n",
       "    <tr>\n",
       "      <th>transcript_id</th>\n",
       "      <th></th>\n",
       "    </tr>\n",
       "  </thead>\n",
       "  <tbody>\n",
       "    <tr>\n",
       "      <th>ENSMUST00000000001</th>\n",
       "      <td>ENSMUSG00000000001</td>\n",
       "    </tr>\n",
       "    <tr>\n",
       "      <th>ENSMUST00000000003</th>\n",
       "      <td>ENSMUSG00000000003</td>\n",
       "    </tr>\n",
       "    <tr>\n",
       "      <th>ENSMUST00000000010</th>\n",
       "      <td>ENSMUSG00000020875</td>\n",
       "    </tr>\n",
       "    <tr>\n",
       "      <th>ENSMUST00000000028</th>\n",
       "      <td>ENSMUSG00000000028</td>\n",
       "    </tr>\n",
       "    <tr>\n",
       "      <th>ENSMUST00000000033</th>\n",
       "      <td>ENSMUSG00000048583</td>\n",
       "    </tr>\n",
       "  </tbody>\n",
       "</table>\n",
       "</div>"
      ],
      "text/plain": [
       "                               gene_id\n",
       "transcript_id                         \n",
       "ENSMUST00000000001  ENSMUSG00000000001\n",
       "ENSMUST00000000003  ENSMUSG00000000003\n",
       "ENSMUST00000000010  ENSMUSG00000020875\n",
       "ENSMUST00000000028  ENSMUSG00000000028\n",
       "ENSMUST00000000033  ENSMUSG00000048583"
      ]
     },
     "execution_count": 9,
     "metadata": {},
     "output_type": "execute_result"
    }
   ],
   "source": [
    "tdf.head()"
   ]
  }
 ],
 "metadata": {
  "kernelspec": {
   "display_name": "Python 3",
   "language": "python",
   "name": "python3"
  },
  "language_info": {
   "codemirror_mode": {
    "name": "ipython",
    "version": 3
   },
   "file_extension": ".py",
   "mimetype": "text/x-python",
   "name": "python",
   "nbconvert_exporter": "python",
   "pygments_lexer": "ipython3",
   "version": "3.6.6"
  }
 },
 "nbformat": 4,
 "nbformat_minor": 2
}
